{
  "nbformat": 4,
  "nbformat_minor": 0,
  "metadata": {
    "colab": {
      "provenance": []
    },
    "kernelspec": {
      "name": "python3",
      "display_name": "Python 3"
    },
    "language_info": {
      "name": "python"
    }
  },
  "cells": [
    {
      "cell_type": "markdown",
      "source": [
        "\n",
        "\n",
        "# Welcome to Python: Behind the Screen!\n",
        "\n",
        "You’ve just seen how websites track your every move online.  \n",
        "Now it’s time to pull back the curtain and explore the code powering it all.\n",
        "\n",
        "Today, we’ll dive into some Python fundamentals — the building blocks behind apps, algorithms, and even tracking tools.\n",
        "\n",
        "Here’s what we’ll cover:\n",
        "\n",
        "🔹 Variables  \n",
        "🔹 Data types  \n",
        "🔹 Print statements & inputs  \n",
        "🔹 Functions\n",
        "\n",
        "**Feel free to tweak the code, break it, fix it, and experiment — that’s how you really learn.**\n",
        "\n",
        "---\n",
        "\n",
        "\n"
      ],
      "metadata": {
        "id": "0YymL0G2sO6u"
      }
    },
    {
      "cell_type": "markdown",
      "source": [
        "Note that variables can be called anything (i.e. we could change the variable *favcolour* to *favouritecolor*  too- it is just a name)\n",
        "\n",
        "The datatype of a variable is dependent on the **type** of data we want to store in it. For example:\n",
        "\n",
        "> * int - integer : used to store integer numbers only (e.g. 7)\n",
        "> * float - floating point : used to store decimal numbers (e.g. 3.14)\n",
        "*   bool - boolean : used to store True/False values (only True and False no other values)\n",
        "*   str - string : used to store a string of letters such as words and sentences(e.g. \"Rainbow\"). When creating (aka initializing) a string datatype you must contain the string in double quotations \""
      ],
      "metadata": {
        "id": "cQIsJb3cchA7"
      }
    },
    {
      "cell_type": "markdown",
      "source": [
        "# Greetings\n",
        "\n",
        "Create a variable called student_name and assign your name to it.\n",
        "\n",
        "Then print a sentence like \"Hello, [your name]!\"\n",
        "\n",
        "🔧 Challenge: Add another line that prints your favorite color using a new variable."
      ],
      "metadata": {
        "id": "wmNEMcPmsuFl"
      }
    },
    {
      "cell_type": "code",
      "execution_count": null,
      "metadata": {
        "id": "2WOW4d7Xr9K4"
      },
      "outputs": [],
      "source": []
    },
    {
      "cell_type": "markdown",
      "source": [
        "# Weather Update\n",
        "\n",
        "Recall the if-else structure:\n",
        "\n",
        "* we will perform statements under an if statement only if a condition is satisfied.\n",
        "\n",
        "* If not then we move onto to check the next elif condition (if it exists) and keep doing this until a condition is satisfied.\n",
        "\n",
        "* If no condition is satisfied then we perform the statements under else"
      ],
      "metadata": {
        "id": "fIwZJzT_jeF0"
      }
    },
    {
      "cell_type": "markdown",
      "source": [
        "\n",
        "\n",
        "Set a variable called temperature (e.g., 28).\n",
        "If it's 30 or more, print \"It's hot today!\"\n",
        "Otherwise, print \"It's not that hot.\"\n",
        "\n",
        "🔧 Challenge: Add a third condition: If it's below 15, print \"It's cold today!\""
      ],
      "metadata": {
        "id": "lRVUNEDos6j7"
      }
    },
    {
      "cell_type": "code",
      "source": [],
      "metadata": {
        "id": "DfXANpGItIrH"
      },
      "execution_count": null,
      "outputs": []
    },
    {
      "cell_type": "markdown",
      "source": [
        "# Build a calculator\n",
        "\n",
        "Define a function called *add_numbers* that takes two numbers and returns their sum.\n",
        "\n",
        "Call the function with 10 and 15, and print the result.\n",
        "\n",
        "🔧 Challenge: How would you change the function if you had to find their product, remainder on dividing?"
      ],
      "metadata": {
        "id": "UJfiifDAtJIk"
      }
    },
    {
      "cell_type": "code",
      "source": [],
      "metadata": {
        "id": "unPCTHGsuN3E"
      },
      "execution_count": null,
      "outputs": []
    },
    {
      "cell_type": "markdown",
      "source": [
        "# User survey\n",
        "\n",
        "Create a function that takes in user data- Ask for their name, age, country of residence, and their experience (on a scale of 1-5).\n",
        "\n",
        "Write a short paragraph summarizing the user's data and experience."
      ],
      "metadata": {
        "id": "1q8AH36PkbTS"
      }
    },
    {
      "cell_type": "code",
      "source": [],
      "metadata": {
        "id": "WBYQzcVxlNCw"
      },
      "execution_count": null,
      "outputs": []
    },
    {
      "cell_type": "markdown",
      "source": [
        "# Typecasting\n",
        "\n",
        "We’re now going to convert values from one data type to another — this is called **type casting**.\n",
        "\n",
        "Examples:\n",
        "\n",
        "* `1235272` → `\"1235272\"` : from **integer** to **string**\n",
        "* `\"6.78\"` → `6.78` : from **string** to **float**\n",
        "\n",
        "This helps us control how data is stored, displayed, or used in calculations."
      ],
      "metadata": {
        "id": "oz_d4QmcuYkg"
      }
    },
    {
      "cell_type": "code",
      "source": [
        "val = 5.689\n",
        "address = \"301\"\n",
        "frequency= 11\n",
        "\n",
        "#after converting, you can check its datatype as well. Ex:\n",
        "type (str(val))"
      ],
      "metadata": {
        "id": "b4EQihs7uaQk"
      },
      "execution_count": null,
      "outputs": []
    }
  ]
}