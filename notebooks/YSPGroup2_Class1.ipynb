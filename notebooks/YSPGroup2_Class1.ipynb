{
  "nbformat": 4,
  "nbformat_minor": 0,
  "metadata": {
    "colab": {
      "provenance": []
    },
    "kernelspec": {
      "name": "python3",
      "display_name": "Python 3"
    },
    "language_info": {
      "name": "python"
    }
  },
  "cells": [
    {
      "cell_type": "markdown",
      "source": [
        "# Welcome to Python: Behind the Screen!\n",
        "\n",
        "You’ve just seen how websites track your every move online.  \n",
        "Now it’s time to pull back the curtain and explore the code powering it all.\n",
        "\n",
        "Today, we’ll dive into some Python fundamentals — the building blocks behind apps, algorithms, and even tracking tools.\n",
        "\n",
        "Here’s what we’ll cover:\n",
        "\n",
        "\n",
        "\n",
        "*   Variables\n",
        "*   Data types & typecasting\n",
        "*   Print statements & inputs  \n",
        "*   Functions\n",
        "\n",
        "**Feel free to tweak the code, break it, fix it, and experiment — that’s how you really learn.**\n",
        "\n",
        "\n",
        "---\n",
        "\n",
        "\n"
      ],
      "metadata": {
        "id": "sdIYWm7OqZdc"
      }
    },
    {
      "cell_type": "markdown",
      "source": [
        "\n",
        "\n",
        "The datatype of a variable is dependent on the **type** of data we want to store in it. For example:\n",
        "\n",
        "> * int - integer : used to store integer numbers only (e.g. 7)\n",
        "> * float - floating point : used to store decimal numbers (e.g. 3.14)\n",
        "*   bool - boolean : used to store True/False values (only True and False no other values)\n",
        "*   str - string : used to store a string of letters such as words and sentences(e.g. \"Rainbow\"). When creating (aka initializing) a string datatype you must contain the string in double quotations \"\n",
        "\n",
        "\n",
        "\n"
      ],
      "metadata": {
        "id": "h9RX2lg4rnCJ"
      }
    },
    {
      "cell_type": "markdown",
      "source": [
        "# Meet Alice\n",
        "\n",
        "The code below shows variables storing information regarding Alice.\n",
        "\n",
        "Note that variables can be called anything (i.e. we could change the variable *favcolour* to *favouritecolor*  too- it is just a name)"
      ],
      "metadata": {
        "id": "Mf86nR8smtb3"
      }
    },
    {
      "cell_type": "code",
      "source": [
        "name = \"Alice\"\n",
        "age = 16\n",
        "favcolour = \"Purple\"\n",
        "height= 5.25\n",
        "athlete= True"
      ],
      "metadata": {
        "id": "vZRecVxrq2_b"
      },
      "execution_count": 10,
      "outputs": []
    },
    {
      "cell_type": "code",
      "source": [
        "print(name)"
      ],
      "metadata": {
        "colab": {
          "base_uri": "https://localhost:8080/"
        },
        "id": "oAwEnOwguxQn",
        "outputId": "7ee719f9-25bb-4741-f828-26c690153f0c"
      },
      "execution_count": 5,
      "outputs": [
        {
          "output_type": "stream",
          "name": "stdout",
          "text": [
            "Alice\n"
          ]
        }
      ]
    },
    {
      "cell_type": "markdown",
      "source": [
        "We can find out the datatypes of different variables using the type() function. Try finding out the datatypes of all the varaibles associated with Alice."
      ],
      "metadata": {
        "id": "NlBTIYigr49w"
      }
    },
    {
      "cell_type": "code",
      "source": [
        "type(name)\n",
        "# try running for other variables as well"
      ],
      "metadata": {
        "colab": {
          "base_uri": "https://localhost:8080/"
        },
        "id": "z8Hem1q391Ue",
        "outputId": "444ae3ca-18ac-4f5e-a885-1a6a12c0da78"
      },
      "execution_count": 11,
      "outputs": [
        {
          "output_type": "execute_result",
          "data": {
            "text/plain": [
              "str"
            ]
          },
          "metadata": {},
          "execution_count": 11
        }
      ]
    },
    {
      "cell_type": "markdown",
      "source": [
        "#Build a calculator\n",
        "\n",
        "Create a function named *two_numbers* that takes two inputs and calculate their sum, difference, product, quotient and remainder on dividing. Store these values in different variables."
      ],
      "metadata": {
        "id": "ULVZ1G3k_Y1G"
      }
    },
    {
      "cell_type": "code",
      "source": [],
      "metadata": {
        "id": "mc8p_lNguwD0"
      },
      "execution_count": 22,
      "outputs": []
    },
    {
      "cell_type": "markdown",
      "source": [
        "# Sign Check\n",
        "\n",
        "Create a function named *sign_of_number* that returns \"positive\", \"zero\", or \"negative\" based on an integer. This demonstrates conditional branching with if-elif-else and comparison operators"
      ],
      "metadata": {
        "id": "rtW6YneBEC-i"
      }
    },
    {
      "cell_type": "code",
      "source": [],
      "metadata": {
        "id": "iCkdDR3ME1X7"
      },
      "execution_count": 19,
      "outputs": []
    },
    {
      "cell_type": "markdown",
      "source": [
        "# Area Quest\n",
        "\n",
        "Create a function named *areas* that takes 3 inputs and calculate the following:\n",
        "\n",
        "assuming first input is a, second input is b, and third input is choice\n",
        "\n",
        "1. Area of rectangle: assuming a is length, b is breadth\n",
        "2. Area of a circle: assuming a is radius\n",
        "3. Area of a triangle: assuming a is height, b is breadth\n",
        "\n",
        "store the values in different variables.\n",
        "\n",
        "if choice = 0, return area of rectangle. choice = 1, return area of circle, and choice= 2, return area of triangle.\n",
        "\n"
      ],
      "metadata": {
        "id": "v6Ai-nCIrql6"
      }
    },
    {
      "cell_type": "code",
      "source": [],
      "metadata": {
        "id": "ySlXXIPA_cZf"
      },
      "execution_count": null,
      "outputs": []
    },
    {
      "cell_type": "markdown",
      "source": [
        "#Typecasting\n",
        "\n",
        "We’re now going to convert values from one data type to another — this is called **type casting**.\n",
        "\n",
        "Examples:\n",
        "\n",
        "* `1235272` → `\"1235272\"` : from **integer** to **string**\n",
        "* `\"6.78\"` → `6.78` : from **string** to **float**\n",
        "\n",
        "This helps us control how data is stored, displayed, or used in calculations.\n",
        "\n",
        "type-cast the following into other datatypes- observe for which datatypes you get errors.\n",
        "\n"
      ],
      "metadata": {
        "id": "25AsGBJ3pu4M"
      }
    },
    {
      "cell_type": "code",
      "source": [
        "val = 5.689\n",
        "address = \"301\"\n",
        "frequency= 11\n",
        "\n",
        "#after converting, you can check its datatype as well. Ex:\n",
        "type (str(val))"
      ],
      "metadata": {
        "id": "Wa9vDZLAqATS"
      },
      "execution_count": null,
      "outputs": []
    }
  ]
}